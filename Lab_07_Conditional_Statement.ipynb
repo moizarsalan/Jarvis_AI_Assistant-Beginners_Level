{
  "nbformat": 4,
  "nbformat_minor": 0,
  "metadata": {
    "colab": {
      "provenance": [],
      "authorship_tag": "ABX9TyPGgOM7QU3g97mYxMa4ULsG",
      "include_colab_link": true
    },
    "kernelspec": {
      "name": "python3",
      "display_name": "Python 3"
    },
    "language_info": {
      "name": "python"
    }
  },
  "cells": [
    {
      "cell_type": "markdown",
      "metadata": {
        "id": "view-in-github",
        "colab_type": "text"
      },
      "source": [
        "<a href=\"https://colab.research.google.com/github/moizarsalan/Jarvis_AI_Assistant-Beginners_Level/blob/main/Lab_07_Conditional_Statement.ipynb\" target=\"_parent\"><img src=\"https://colab.research.google.com/assets/colab-badge.svg\" alt=\"Open In Colab\"/></a>"
      ]
    },
    {
      "cell_type": "markdown",
      "source": [
        "# **Lab 07**\n",
        "\n",
        "#                **Conditional Statement**\n",
        "**IF else Statement:**\n",
        "\n",
        " If else is a decision statement in that allows you to execute different blocks of code based on whether a given condition is true or false.\n",
        "\n",
        "**Nested if else**\n",
        "\n",
        "Nested if-else statements are if-else statements that are placed inside another if or else block. This means that within the block of code executed when a condition is true or false, there exists another if-else statement.\n",
        "                   "
      ],
      "metadata": {
        "id": "jANbbhJJJTaZ"
      }
    },
    {
      "cell_type": "markdown",
      "source": [
        "# **Task 01**\n",
        "Write a Program in which user enter a number and it tells whether it is positive or not.\n",
        "\n"
      ],
      "metadata": {
        "id": "ZFxxemMvS1Dk"
      }
    },
    {
      "cell_type": "code",
      "source": [
        "# Program 1: If-Else\n",
        "number = int(input(\"Enter a number: \"))\n",
        "if number > 0:\n",
        "    print(\"The number is positive.\")\n",
        "else:\n",
        "    print(\"The number is either zero or negative.\")\n"
      ],
      "metadata": {
        "colab": {
          "base_uri": "https://localhost:8080/"
        },
        "id": "IczQXzl6JR7j",
        "outputId": "7459ca7b-22b7-4b66-c739-63019f49d21c"
      },
      "execution_count": 8,
      "outputs": [
        {
          "output_type": "stream",
          "name": "stdout",
          "text": [
            "Enter a number: 2\n",
            "The number is positive.\n"
          ]
        }
      ]
    },
    {
      "cell_type": "markdown",
      "source": [
        "# **Task 02**\n",
        "Write a program in which user enter his/her and program tells if he/her is eligible to vote or not."
      ],
      "metadata": {
        "id": "O9vhgmOaTSMn"
      }
    },
    {
      "cell_type": "code",
      "source": [
        "# Program 2: If-Else\n",
        "age = int(input(\"Enter your age: \"))\n",
        "if age >= 18:\n",
        "    print(\"You are eligible to vote.\")\n",
        "else:\n",
        "    print(\"You are not eligible to vote.\")\n"
      ],
      "metadata": {
        "colab": {
          "base_uri": "https://localhost:8080/"
        },
        "id": "QDTAnirVJsTi",
        "outputId": "fb26949a-c489-4cc5-c5f7-b1b280fcfa94"
      },
      "execution_count": 9,
      "outputs": [
        {
          "output_type": "stream",
          "name": "stdout",
          "text": [
            "Enter your age: 12\n",
            "You are not eligible to vote.\n"
          ]
        }
      ]
    },
    {
      "cell_type": "markdown",
      "source": [
        "# **Task 03**\n",
        "Write a program in which user enter temperature in celcuis and it tells condition of temperature in extrememly hot, warm, cool, cold."
      ],
      "metadata": {
        "id": "MHAxgz7UTfIF"
      }
    },
    {
      "cell_type": "code",
      "source": [
        "# Program 5: Nested If-Else\n",
        "temperature = float(input(\"Enter the temperature in Celsius: \"))\n",
        "if temperature >= 40:\n",
        "    print(\"It's extremely hot outside.\")\n",
        "else:\n",
        "    if temperature >= 30:\n",
        "        print(\"It's very hot outside.\")\n",
        "    else:\n",
        "        if temperature >= 20:\n",
        "            print(\"It's warm outside.\")\n",
        "        else:\n",
        "            if temperature >= 10:\n",
        "                print(\"It's cool outside.\")\n",
        "            else:\n",
        "                print(\"It's cold outside.\")\n"
      ],
      "metadata": {
        "colab": {
          "base_uri": "https://localhost:8080/"
        },
        "id": "nr2_p8tiKFOm",
        "outputId": "ecb49630-8cbb-4262-8688-f5dfe306a711"
      },
      "execution_count": 11,
      "outputs": [
        {
          "output_type": "stream",
          "name": "stdout",
          "text": [
            "Enter the temperature in Celsius: 98\n",
            "It's extremely hot outside.\n"
          ]
        }
      ]
    },
    {
      "cell_type": "markdown",
      "source": [
        "## **Task 04**\n",
        "Write a program in which user enter his/her marks and it tells the grade of the student."
      ],
      "metadata": {
        "id": "vSQVRrKDT1Ge"
      }
    },
    {
      "cell_type": "code",
      "source": [
        "# Program 4: Nested If-Else\n",
        "marks = int(input(\"Enter your marks: \"))\n",
        "if marks >= 90:\n",
        "    print(\"You got an A grade.\")\n",
        "else:\n",
        "    if marks >= 80:\n",
        "        print(\"You got a B grade.\")\n",
        "    else:\n",
        "        if marks >= 70:\n",
        "            print(\"You got a C grade.\")\n",
        "        else:\n",
        "            if marks >= 60:\n",
        "                print(\"You got a D grade.\")\n",
        "            else:\n",
        "                print(\"You failed.\")\n"
      ],
      "metadata": {
        "colab": {
          "base_uri": "https://localhost:8080/"
        },
        "id": "RcGN7JelLlgJ",
        "outputId": "64e1bac2-15c5-4e02-e1c2-254d0f3d6232"
      },
      "execution_count": 12,
      "outputs": [
        {
          "output_type": "stream",
          "name": "stdout",
          "text": [
            "Enter your marks: 60\n",
            "You got a D grade.\n"
          ]
        }
      ]
    }
  ]
}